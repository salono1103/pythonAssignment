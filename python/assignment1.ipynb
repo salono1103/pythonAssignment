{
 "cells": [
  {
   "cell_type": "code",
   "execution_count": null,
   "id": "a1729bb2",
   "metadata": {},
   "outputs": [],
   "source": [
    "# 1\n",
    "num = int(input('Enter the number to get sum of first n positive int.:'))\n",
    "Sum = (num*(num+1)/2)\n",
    "print(Sum)"
   ]
  },
  {
   "cell_type": "code",
   "execution_count": null,
   "id": "398363c2",
   "metadata": {},
   "outputs": [],
   "source": [
    "#2\n",
    "str1 = 'A small act of kindness can go a long way.'\n",
    "print()\n",
    "print(str1.count(\"a\"))\n",
    "print()"
   ]
  },
  {
   "cell_type": "code",
   "execution_count": null,
   "id": "88915593",
   "metadata": {},
   "outputs": [],
   "source": [
    "#3\n",
    "str1 = input(\"Enter a sentance:\")\n",
    "str2=str1.split()\n",
    "emp_dict = {}\n",
    "\n",
    "for val1 in str2:\n",
    "    if val1 not in emp_dict:\n",
    "         emp_dict[val1]=1\n",
    "    else:\n",
    "        emp_dict[val1] = emp_dict[val1] + 1\n"
   ]
  },
  {
   "cell_type": "code",
   "execution_count": null,
   "id": "64921b06",
   "metadata": {},
   "outputs": [],
   "source": [
    "print(emp_dict)"
   ]
  },
  {
   "cell_type": "code",
   "execution_count": null,
   "id": "94a310cf",
   "metadata": {},
   "outputs": [],
   "source": [
    "# 4\n",
    "def Swap(a,b):\n",
    "    new_a=b[:2]+a[2:]\n",
    "    new_b=a[:2]+b[2:]\n",
    "    return new_a+\" \"+new_b\n",
    "\n",
    "print(Swap('Apple','Banana'))"
   ]
  },
  {
   "cell_type": "code",
   "execution_count": null,
   "id": "9cbd95ca",
   "metadata": {},
   "outputs": [],
   "source": [
    "# 5"
   ]
  },
  {
   "cell_type": "code",
   "execution_count": null,
   "id": "1c898854",
   "metadata": {},
   "outputs": [],
   "source": [
    "def add_ing(str1):\n",
    "    length = len(str1)\n",
    "\n",
    "    if length > 3:\n",
    "        if str1[-3:] == 'ing':\n",
    "            str1 += 'ly'\n",
    "        else:\n",
    "            str1 += 'ing'\n",
    "    return str1\n",
    "print(add_string('go'))\n",
    "print(add_string('gone'))\n",
    "print(add_string('going'))"
   ]
  },
  {
   "cell_type": "code",
   "execution_count": null,
   "id": "2ee95d39",
   "metadata": {},
   "outputs": [],
   "source": [
    "# 6\n",
    "\n",
    "def replace_String(str1):\n",
    "    s_not=str1.find(\"not\")\n",
    "    s_poor=str1.find(\"poor\")\n",
    "    if True:\n",
    "        result=str1.replace(str1[s_not:s_poor+4],\"good\")\n",
    "    return result\n",
    "\n",
    "str2=\"you are not poor\"\n",
    "replace_String(str2)        "
   ]
  },
  {
   "cell_type": "code",
   "execution_count": null,
   "id": "842ac46e",
   "metadata": {},
   "outputs": [],
   "source": [
    "# 7\n",
    "\n",
    "def gcd(a,b):\n",
    "    import math\n",
    "    result=math.gcd(a,b)\n",
    "    return result\n",
    "\n",
    "gcd(30,40)    "
   ]
  },
  {
   "cell_type": "code",
   "execution_count": null,
   "id": "ab57bd38",
   "metadata": {},
   "outputs": [],
   "source": [
    "# 8\n",
    "\n",
    "def sublist(l1):\n",
    "    for i in l1:\n",
    "        if isinstance(i,list):\n",
    "            print(\"List contains sublist\")\n",
    "        \n",
    "list1=[3,4,5,6,[12,13,14]]\n",
    "sublist(list1)"
   ]
  },
  {
   "cell_type": "code",
   "execution_count": null,
   "id": "31f99710",
   "metadata": {},
   "outputs": [],
   "source": [
    "# 9\n",
    "def second_Smallest(l1):\n",
    "    l1.sort()\n",
    "    return l1[1]\n",
    "\n",
    "list1=[11,21,33,45,50]\n",
    "print(second_Smallest(list1))"
   ]
  },
  {
   "cell_type": "code",
   "execution_count": null,
   "id": "95dc7dcd",
   "metadata": {},
   "outputs": [],
   "source": [
    "# 10\n",
    "def unique_value(lst):\n",
    "    unique=[]\n",
    "    for x in lst:\n",
    "        if x not in unique:\n",
    "            unique.append(x)\n",
    "    return unique\n",
    "\n",
    "list1=[11,2,22,33,33,51,51,51,51,51,7,7]\n",
    "print(unique_value(list1))"
   ]
  },
  {
   "cell_type": "code",
   "execution_count": null,
   "id": "ac49f389",
   "metadata": {},
   "outputs": [],
   "source": [
    "# 11\n",
    "list1=[(3,41),(11,22),(7,17)]\n",
    "\n",
    "def unzip_list(l1):\n",
    "    for i in l1:\n",
    "        x=list(i)\n",
    "        print(x)\n",
    "unzip_list(list1)   "
   ]
  },
  {
   "cell_type": "code",
   "execution_count": null,
   "id": "4e82b9de",
   "metadata": {},
   "outputs": [],
   "source": [
    "# 12\n",
    "def convert_to_tuple(t1):\n",
    "    t1=dict(t1)\n",
    "    return t1\n",
    "\n",
    "list1=[('apple',10),('banana',12)]\n",
    "print(convert_to_tuple(list1))"
   ]
  },
  {
   "cell_type": "code",
   "execution_count": null,
   "id": "972b17f2",
   "metadata": {},
   "outputs": [],
   "source": [
    "# 13\n",
    "def sort_ascending(dict1):\n",
    "    dict1=list(dict1.items())\n",
    "    dict1=[i[::-1] for i in dict1]\n",
    "    dict1.sort()\n",
    "    dict1=[i[::-1] for i in dict1]\n",
    "    return dict(dict1)\n",
    "\n",
    "def sort_decending(dict1):\n",
    "    dict1=list(dict1.items())\n",
    "    dict1=[i[::-1] for i in dict1]\n",
    "    dict1.sort(reverse=True)\n",
    "    dict1=[i[::-1] for i in dict1]\n",
    "    return dict(dict1)\n",
    "\n",
    "dic={'A':67,'B':33,'C':45,'D':11,'E':2,'F':76,'G':99}\n",
    "\n",
    "print(sort_ascending(dic))\n",
    "print(sort_decending(dic))\n"
   ]
  },
  {
   "cell_type": "code",
   "execution_count": null,
   "id": "6499daa0",
   "metadata": {},
   "outputs": [],
   "source": [
    "# 14\n",
    "def highest_values(dict1):\n",
    "    val=list(dict1.values())\n",
    "    val.sort(reverse=True)\n",
    "    val=val[:3]\n",
    "    for i in val:\n",
    "        for j in dict1.keys():\n",
    "            if (dict1[j]==i):\n",
    "                print(str(j)+\":\"+str(dict1[j]))\n",
    "                \n",
    "dic={'A':67,'B':33,'C':45,'D':11,'E':2,'F':76,'G':99}\n",
    "highest_values(dic)    "
   ]
  },
  {
   "cell_type": "code",
   "execution_count": null,
   "id": "7f0fbaf7",
   "metadata": {},
   "outputs": [],
   "source": [
    "# 15\n",
    "def Fibonacci_series(number):\n",
    "    num1=0;num2=1\n",
    "    if number==1:\n",
    "        return numner2\n",
    "    elif number==0:\n",
    "        return n1\n",
    "    print('Fibonacci :',num1,num2,end=\" \")\n",
    "    for i in range(number):\n",
    "        num = num1 + num2\n",
    "        num1 = num2\n",
    "        num2 = num\n",
    "        print(num, end=\" \")\n",
    "            \n",
    "Fibonacci_series(10)"
   ]
  },
  {
   "cell_type": "code",
   "execution_count": null,
   "id": "a87b1f66",
   "metadata": {},
   "outputs": [],
   "source": [
    "# 16\n",
    "\n",
    "def Count_freqencies(l1):\n",
    "    dict1={}\n",
    "    for i in l1:\n",
    "        if i not in dict1:\n",
    "            dict1[i]=1\n",
    "        else:\n",
    "            dict1[i]+=1\n",
    "     \n",
    "    return dict1\n",
    "list1=[22,22,1,11,1,5,7,5,5,1,1,5]\n",
    "print(Count_freqencies(list1))"
   ]
  }
 ],
 "metadata": {
  "kernelspec": {
   "display_name": "Python 3 (ipykernel)",
   "language": "python",
   "name": "python3"
  },
  "language_info": {
   "codemirror_mode": {
    "name": "ipython",
    "version": 3
   },
   "file_extension": ".py",
   "mimetype": "text/x-python",
   "name": "python",
   "nbconvert_exporter": "python",
   "pygments_lexer": "ipython3",
   "version": "3.9.13"
  }
 },
 "nbformat": 4,
 "nbformat_minor": 5
}
